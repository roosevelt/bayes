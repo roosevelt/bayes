{
 "cells": [
  {
   "cell_type": "raw",
   "metadata": {},
   "source": [
    "This library aims to allow users to use some Bayesian Network algorithms implemented during my master's dissertation. My code was not very organized at the end of my master's, so I started to refactor it to build a more friendly API. This new version is still under construction, but the old one is in the file BayesNetwork.py. So, feel free to take a look and use the old version (if you like challenges) during this time."
   ]
  },
  {
   "cell_type": "raw",
   "metadata": {},
   "source": [
    "Documentation of this new version (the only documentation about the old version is on the code and in the dissertation):"
   ]
  },
  {
   "cell_type": "raw",
   "metadata": {},
   "source": [
    "This page will show you how to create a simple bayesian network:"
   ]
  },
  {
   "cell_type": "raw",
   "metadata": {},
   "source": [
    "First, let's import some files we are going to need:"
   ]
  },
  {
   "cell_type": "code",
   "execution_count": 3,
   "metadata": {
    "collapsed": true
   },
   "outputs": [],
   "source": [
    "from Variable import Variable\n",
    "from CPD import CPD\n",
    "from Node import Node\n",
    "from BN import BayesianNetwork"
   ]
  },
  {
   "cell_type": "raw",
   "metadata": {},
   "source": [
    "Now, let's create some random variables:"
   ]
  },
  {
   "cell_type": "code",
   "execution_count": 4,
   "metadata": {
    "collapsed": true
   },
   "outputs": [],
   "source": [
    "A =  Variable(\"A\", [\"yes\", \"no\"])\n",
    "B =  Variable(\"B\", [\"yes\", \"no\"])\n",
    "C =  Variable(\"C\", [\"yes\", \"no\"])"
   ]
  },
  {
   "cell_type": "raw",
   "metadata": {},
   "source": [
    "Okay, now for each variable we are going to create a conditional probability table (that describes a conditional probability distribution - CPD), and set it's parameters:"
   ]
  },
  {
   "cell_type": "code",
   "execution_count": 5,
   "metadata": {
    "collapsed": true
   },
   "outputs": [],
   "source": [
    "cpd_C = CPD(C, [A, B])\n",
    "parameters_C = [0.1, 0.9, 0.2, 0.8, 0.3, 0.7, 0.6, 0.4]\n",
    "cpd_C.setParameters(parameters_C)\n",
    "\n",
    "cpd_A = CPD(A)\n",
    "parameters_A = [0.4, 0.6]\n",
    "cpd_A.setParameters(parameters_A)\n",
    "\n",
    "cpd_B = CPD(B)\n",
    "parameters_B = [0.2, 0.8]\n",
    "cpd_A.setParameters(parameters_B)"
   ]
  },
  {
   "cell_type": "raw",
   "metadata": {},
   "source": [
    "Notice, that, when we created the first CPD, we set variables A and B, as the variables at which C is conditioned on. Now, create the nodes of the Bayesian Network:"
   ]
  },
  {
   "cell_type": "code",
   "execution_count": 6,
   "metadata": {
    "collapsed": true
   },
   "outputs": [],
   "source": [
    "node_a = Node(cpd_A)\n",
    "node_b = Node(cpd_B)\n",
    "node_c = Node(cpd_C)"
   ]
  },
  {
   "cell_type": "raw",
   "metadata": {},
   "source": [
    "And, finally, the Bayesian Network:"
   ]
  },
  {
   "cell_type": "code",
   "execution_count": 7,
   "metadata": {
    "collapsed": true
   },
   "outputs": [],
   "source": [
    "node_list = [node_a, node_b, node_c]\n",
    "bn = BayesianNetwork(node_list)"
   ]
  },
  {
   "cell_type": "raw",
   "metadata": {},
   "source": [
    "We can print it to see what was created:"
   ]
  },
  {
   "cell_type": "code",
   "execution_count": 8,
   "metadata": {},
   "outputs": [
    {
     "name": "stdout",
     "output_type": "stream",
     "text": [
      "******************** Bayesian Network Description ********************\n",
      "Nodes: A, B, C\n",
      "Number of Edges: 2\n",
      "\n",
      "Conditional Probability Tables (all nodes): \n",
      "\n",
      "==================== Conditional Probability Table of A (2 Values) ====================\n",
      "Possible Values: yes, no\n",
      "Parents: None (no parents)\n",
      "Lines: 2 entries\n",
      "\n",
      "A(yes)                         0.2                       \n",
      "A(no)                          0.8                       \n",
      "\n",
      "==================== Conditional Probability Table of B (2 Values) ====================\n",
      "Possible Values: yes, no\n",
      "Parents: None (no parents)\n",
      "Lines: 2 entries\n",
      "\n",
      "B(yes)                         0.0                       \n",
      "B(no)                          0.0                       \n",
      "\n",
      "==================== Conditional Probability Table of C (2 Values) ====================\n",
      "Possible Values: yes, no\n",
      "Parents: A (2 Values), B (2 Values)\n",
      "Lines: 8 entries\n",
      "\n",
      "C(yes)                         A(yes)                         B(yes)                         0.1                       \n",
      "C(no)                          A(yes)                         B(yes)                         0.9                       \n",
      "C(yes)                         A(no)                          B(yes)                         0.2                       \n",
      "C(no)                          A(no)                          B(yes)                         0.8                       \n",
      "C(yes)                         A(yes)                         B(no)                          0.3                       \n",
      "C(no)                          A(yes)                         B(no)                          0.7                       \n",
      "C(yes)                         A(no)                          B(no)                          0.6                       \n",
      "C(no)                          A(no)                          B(no)                          0.4                       \n",
      "\n",
      "\n"
     ]
    }
   ],
   "source": [
    "print(bn)"
   ]
  },
  {
   "cell_type": "raw",
   "metadata": {},
   "source": [
    "Also, we can print the edges:"
   ]
  },
  {
   "cell_type": "code",
   "execution_count": 9,
   "metadata": {},
   "outputs": [
    {
     "name": "stdout",
     "output_type": "stream",
     "text": [
      "Edge from node A to node C\n",
      "Edge from node B to node C\n"
     ]
    }
   ],
   "source": [
    "for edge in bn.edges:\n",
    "    print(edge)"
   ]
  },
  {
   "cell_type": "code",
   "execution_count": null,
   "metadata": {
    "collapsed": true
   },
   "outputs": [],
   "source": []
  }
 ],
 "metadata": {
  "kernelspec": {
   "display_name": "Python 3",
   "language": "python",
   "name": "python3"
  },
  "language_info": {
   "codemirror_mode": {
    "name": "ipython",
    "version": 3
   },
   "file_extension": ".py",
   "mimetype": "text/x-python",
   "name": "python",
   "nbconvert_exporter": "python",
   "pygments_lexer": "ipython3",
   "version": "3.6.1"
  }
 },
 "nbformat": 4,
 "nbformat_minor": 2
}
